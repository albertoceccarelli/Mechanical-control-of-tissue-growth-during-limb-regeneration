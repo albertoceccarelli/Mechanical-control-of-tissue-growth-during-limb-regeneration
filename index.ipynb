{
 "cells": [
  {
   "cell_type": "markdown",
   "metadata": {},
   "source": [
    "## Supplementary notebook for Mechanical control of tissue growth during limb regeneration.\n",
    "\n",
    "$Sandra\\text{ }Edwards-Jorquera^{1\\text{,}2\\text{,}*}$, $Alberto\\text{ }Ceccarelli^3$, $Raimund\\text{ }Schlüßler^{4\\text{,}5}$, $Nivedha\\text{ }Murali\\text{ }Shankar^1$, $Angela\\text{ }Muñoz\\text{ }Ovalle^1$, $Kyle\\text{ }Gentleman^2$, $Uwe\\text{ }Freudenberg^{1\\text{,}6}$, $Carsten\\text{ }Werner^{1\\text{,}6}$, $Osvaldo\\text{ }Chara^{3\\text{,}7\\text{,}8}$, $Anna\\text{ }Taubenberger^4$, $Tatiana\\text{ }Sandoval-Guzmán^{1\\text{,}2\\text{,}9\\text{,}*}$\r\n",
    "\r\n",
    " \r\n",
    "\r\n",
    "  1.       Center for Regenerative Therapies Dresden (CRTD), TUD Dresden University of Technology, Dresden, Germany.\r\n",
    "\r\n",
    "  2.       Dept. of Internal Medicine III, Center for Healthy Aging, University Hospital Carl Gustav Carus, TUD Dresden University of Technology, Dresden, Germany.\r\n",
    "\r\n",
    "  3.       School of Biosciences, University of Nottingham, Sutton Bonington Campus, Nottingham LE12, U.K.\r\n",
    "\r\n",
    "  4.       Biotechnology Center, Center for Molecular and Cellular Bioengineering (CMCB), TUD Dresden University of Technology, Dresden, Germany.\r\n",
    "\r\n",
    "  5.       CellSense Technologies GmbH, Berlin, Germany.\r\n",
    "\r\n",
    "  6.       ﻿Leibniz Institute of Polymer Research Dresden (IPF), Max Bergmann Center of Biomaterials Dresden (MBC), TUD Dresden University of Technology, Dresden, Germany.\r\n",
    "\r\n",
    "  7.       Center for Information Services and High-Performance Computing, TUD Dresden University of Technology, Dresden, Germany.\r\n",
    "\r\n",
    "  8.       Instituto de Tecnología, Universidad Argentina de la Empresa, Buenos Aires, Argentina.\r\n",
    "\r\n",
    "  9.       Paul Langerhans Institute Dresden (PLID), Helmholtz Centre Munich, University Hospital Carl Gustav Carus, TUD Dresden University of Technology, Dresden, Germany.\r\n",
    "\r\n",
    "* Correspondence: sandra.edwards@tu-dresden.de, tatiana.sandoval_guzman@tu-dresden.de la Empresa, Buenos Aires, Argentina."
   ]
  },
  {
   "cell_type": "code",
   "execution_count": null,
   "metadata": {},
   "outputs": [],
   "source": []
  }
 ],
 "metadata": {
  "kernelspec": {
   "display_name": "Python 3 (ipykernel)",
   "language": "python",
   "name": "python3"
  },
  "language_info": {
   "codemirror_mode": {
    "name": "ipython",
    "version": 3
   },
   "file_extension": ".py",
   "mimetype": "text/x-python",
   "name": "python",
   "nbconvert_exporter": "python",
   "pygments_lexer": "ipython3",
   "version": "3.12.3"
  }
 },
 "nbformat": 4,
 "nbformat_minor": 4
}
